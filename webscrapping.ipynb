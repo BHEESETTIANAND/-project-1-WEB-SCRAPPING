{
 "cells": [
  {
   "cell_type": "code",
   "execution_count": 10,
   "id": "16ce9dd8-bbe1-42a0-9e7b-1fbfa4acdc9b",
   "metadata": {},
   "outputs": [],
   "source": [
    "import requests\n",
    "from bs4 import BeautifulSoup as bs\n",
    "from urllib.request import urlopen\n",
    "import logging"
   ]
  },
  {
   "cell_type": "code",
   "execution_count": 11,
   "id": "8f7933c3-0ab3-4fa7-a57b-bcb2f050fb7f",
   "metadata": {},
   "outputs": [],
   "source": [
    "#first paste the url of any website you want to scrap\n",
    "#in this we are using the flipkart website\n",
    "#inplace of tv we can add anything we want to search from the website\n",
    "url=\"https://www.flipkart.com/search?q=\"+\"tv\""
   ]
  },
  {
   "cell_type": "code",
   "execution_count": 14,
   "id": "53daa809-b9a6-4916-ab12-23d54a81f3b1",
   "metadata": {},
   "outputs": [
    {
     "data": {
      "text/plain": [
       "<http.client.HTTPResponse at 0x7f4cc4f51960>"
      ]
     },
     "execution_count": 14,
     "metadata": {},
     "output_type": "execute_result"
    }
   ],
   "source": [
    "#to open the url\n",
    "a=urlopen(url)\n",
    "a"
   ]
  },
  {
   "cell_type": "code",
   "execution_count": 15,
   "id": "328afd94-964c-4729-badb-2d770714db5d",
   "metadata": {},
   "outputs": [],
   "source": [
    "#to read or scrap the data from website\n",
    "b=a.read()\n",
    "b"
   ]
  },
  {
   "cell_type": "code",
   "execution_count": null,
   "id": "e47d23e4-5a92-4f1b-83d3-b6971caf8a64",
   "metadata": {},
   "outputs": [],
   "source": [
    "#to beautify the data we can use Beautifulsoup\n",
    "c=bs(b,\"html.parser\")\n",
    "c"
   ]
  },
  {
   "cell_type": "code",
   "execution_count": 22,
   "id": "c06512a4-0e54-4773-8633-864953e8535c",
   "metadata": {},
   "outputs": [],
   "source": [
    "#if you want to see the full details of any product in the website copy the href link of that product.\n",
    "#by right clicking and select the insepect option\n",
    "d=\"https://www.flipkart.com\"+\"/gangnam-street-80-cm-32-inch-hd-ready-led-smart-android-tv/p/itm3728b6965eec3?pid=TVSGGBTVHGHKKNBF&lid=LSTTVSGGBTVHGHKKNBFWX8I4X&marketplace=FLIPKART&q=tv&store=ckf%2Fczl&srno=s_1_1&otracker=search&otracker1=search&fm=organic&iid=en_Vm%2FoIL%2FWGHznQnBm%2FHGLI0HtCXDDOD3eIwum6rRpScJqK068WB6NWa34H4on%2BTD7KSPRVxIbEhvPI72sP01ZjA%3D%3D&ppt=hp&ppn=homepage&ssid=m9lyzms3wg0000001678709253653&qH=c9a1fdac6e082dd8\""
   ]
  },
  {
   "cell_type": "code",
   "execution_count": 23,
   "id": "6168ddc6-a3e1-47ba-a5f3-dba092e3f895",
   "metadata": {},
   "outputs": [
    {
     "data": {
      "text/plain": [
       "'https://www.flipkart.com/gangnam-street-80-cm-32-inch-hd-ready-led-smart-android-tv/p/itm3728b6965eec3?pid=TVSGGBTVHGHKKNBF&lid=LSTTVSGGBTVHGHKKNBFWX8I4X&marketplace=FLIPKART&q=tv&store=ckf%2Fczl&srno=s_1_1&otracker=search&otracker1=search&fm=organic&iid=en_Vm%2FoIL%2FWGHznQnBm%2FHGLI0HtCXDDOD3eIwum6rRpScJqK068WB6NWa34H4on%2BTD7KSPRVxIbEhvPI72sP01ZjA%3D%3D&ppt=hp&ppn=homepage&ssid=m9lyzms3wg0000001678709253653&qH=c9a1fdac6e082dd8'"
      ]
     },
     "execution_count": 23,
     "metadata": {},
     "output_type": "execute_result"
    }
   ],
   "source": [
    "d"
   ]
  },
  {
   "cell_type": "code",
   "execution_count": null,
   "id": "e2f4d295-3dd2-478a-92d7-973b5d1e8f8b",
   "metadata": {},
   "outputs": [],
   "source": [
    "#to scrap all the data present in that page\n",
    "#so we already have all that page data in the variable c\n",
    "e=c.find_all(\"div\",{\"class\":\"_1AtVbE col-12-12\"})\n",
    "e"
   ]
  },
  {
   "cell_type": "code",
   "execution_count": 26,
   "id": "d74998a2-9b1f-4655-9ca0-18aef0a50999",
   "metadata": {},
   "outputs": [
    {
     "data": {
      "text/plain": [
       "30"
      ]
     },
     "execution_count": 26,
     "metadata": {},
     "output_type": "execute_result"
    }
   ],
   "source": [
    "#to find that for how many products we have scrapped the data\n",
    "len(e)"
   ]
  },
  {
   "cell_type": "code",
   "execution_count": 27,
   "id": "abb33758-9d88-4f00-bd59-e3c0d15cc217",
   "metadata": {},
   "outputs": [],
   "source": [
    "#if you want to delete any products data\n",
    "del e[0:3]"
   ]
  },
  {
   "cell_type": "code",
   "execution_count": null,
   "id": "9bfcecd6-7d52-4989-815b-83b06607d0af",
   "metadata": {},
   "outputs": [],
   "source": [
    "#to get the complete data of the particular product\n",
    "e[0].div.div.div.a"
   ]
  },
  {
   "cell_type": "code",
   "execution_count": 29,
   "id": "f3396fe7-2ae8-4ee9-86da-1e65e1804bd1",
   "metadata": {},
   "outputs": [
    {
     "data": {
      "text/plain": [
       "'/mi-5a-80-cm-32-inch-hd-ready-led-smart-android-tv-dolby-audio-2022-model/p/itm98501ffa297ba?pid=TVSGD5CS2SDUUZGN&lid=LSTTVSGD5CS2SDUUZGNWGZUUA&marketplace=FLIPKART&q=tv&store=ckf%2Fczl&srno=s_1_2&otracker=search&fm=organic&iid=en_kV6YUBlxsBNoo3zTi57TzpcWfgJX3uOHP3NmcW%2FQ6%2F%2BeQgPLJUsg0v2Th8Ot1K%2BmHn5uC2PEPD0MV3T0QhOSVw%3D%3D&ppt=None&ppn=None&ssid=wb71a86t8w0000001678710017919&qH=c9a1fdac6e082dd8'"
      ]
     },
     "execution_count": 29,
     "metadata": {},
     "output_type": "execute_result"
    }
   ],
   "source": [
    "#to get only the href link of that product\n",
    "e[0].div.div.div.a[\"href\"]"
   ]
  },
  {
   "cell_type": "code",
   "execution_count": 30,
   "id": "1cdb0e40-849f-44c2-b67f-0534705b228d",
   "metadata": {},
   "outputs": [],
   "source": [
    "#to see the data present in the above url pls add the common flipkart url\n",
    "f=\"https://www.flipkart.com\"+\"/mi-5a-80-cm-32-inch-hd-ready-led-smart-android-tv-dolby-audio-2022-model/p/itm98501ffa297ba?pid=TVSGD5CS2SDUUZGN&lid=LSTTVSGD5CS2SDUUZGNWGZUUA&marketplace=FLIPKART&q=tv&store=ckf%2Fczl&srno=s_1_2&otracker=search&fm=organic&iid=en_kV6YUBlxsBNoo3zTi57TzpcWfgJX3uOHP3NmcW%2FQ6%2F%2BeQgPLJUsg0v2Th8Ot1K%2BmHn5uC2PEPD0MV3T0QhOSVw%3D%3D&ppt=None&ppn=None&ssid=wb71a86t8w0000001678710017919&qH=c9a1fdac6e082dd8\""
   ]
  },
  {
   "cell_type": "code",
   "execution_count": 31,
   "id": "151547b2-c1d8-4944-a905-db0a6801fda0",
   "metadata": {},
   "outputs": [
    {
     "data": {
      "text/plain": [
       "'https://www.flipkart.com/mi-5a-80-cm-32-inch-hd-ready-led-smart-android-tv-dolby-audio-2022-model/p/itm98501ffa297ba?pid=TVSGD5CS2SDUUZGN&lid=LSTTVSGD5CS2SDUUZGNWGZUUA&marketplace=FLIPKART&q=tv&store=ckf%2Fczl&srno=s_1_2&otracker=search&fm=organic&iid=en_kV6YUBlxsBNoo3zTi57TzpcWfgJX3uOHP3NmcW%2FQ6%2F%2BeQgPLJUsg0v2Th8Ot1K%2BmHn5uC2PEPD0MV3T0QhOSVw%3D%3D&ppt=None&ppn=None&ssid=wb71a86t8w0000001678710017919&qH=c9a1fdac6e082dd8'"
      ]
     },
     "execution_count": 31,
     "metadata": {},
     "output_type": "execute_result"
    }
   ],
   "source": [
    "f"
   ]
  },
  {
   "cell_type": "code",
   "execution_count": 35,
   "id": "d755efb3-3222-4d83-99cd-2dbd74173a3e",
   "metadata": {},
   "outputs": [],
   "source": [
    "#or to get url\n",
    "products_link=\"https://www.flipkart.com\"+e[0].div.div.div.a[\"href\"]"
   ]
  },
  {
   "cell_type": "code",
   "execution_count": null,
   "id": "c9b67bb6-ef1b-4a13-b465-f497e97c8476",
   "metadata": {},
   "outputs": [],
   "source": [
    "#to get url of every product present in that page\n",
    "for i in e:\n",
    "    print(\"https://www.flipkart.com\"+i.div.div.div.a[\"href\"])"
   ]
  },
  {
   "cell_type": "code",
   "execution_count": 37,
   "id": "0181b9d0-3ba2-418a-8954-67371cf44810",
   "metadata": {},
   "outputs": [],
   "source": [
    "#to get the all details with reviews\n",
    "product_req=requests.get(products_link)"
   ]
  },
  {
   "cell_type": "code",
   "execution_count": 38,
   "id": "81890b0c-2126-47ae-9738-086ca0fd8bc9",
   "metadata": {},
   "outputs": [
    {
     "data": {
      "text/plain": [
       "<Response [200]>"
      ]
     },
     "execution_count": 38,
     "metadata": {},
     "output_type": "execute_result"
    }
   ],
   "source": [
    "product_req"
   ]
  },
  {
   "cell_type": "code",
   "execution_count": 41,
   "id": "f77df756-343d-443c-8d13-2d50df59e0a7",
   "metadata": {},
   "outputs": [],
   "source": [
    "#to get this data that is to read this data\n",
    "product_html=bs(product_req.text,\"html.parser\")\n"
   ]
  },
  {
   "cell_type": "code",
   "execution_count": 43,
   "id": "fae392a2-d46e-4866-a765-855691815a03",
   "metadata": {},
   "outputs": [],
   "source": [
    "#to scrap only the reviews of the particular product\n",
    "#as all this details are already present in the variable product_html\n",
    "reviews=product_html.find_all(\"div\",{\"class\":\"_16PBlm\"})\n"
   ]
  },
  {
   "cell_type": "code",
   "execution_count": 44,
   "id": "21fa0eb3-efb6-451a-979e-19fdc7638822",
   "metadata": {},
   "outputs": [
    {
     "data": {
      "text/plain": [
       "11"
      ]
     },
     "execution_count": 44,
     "metadata": {},
     "output_type": "execute_result"
    }
   ],
   "source": [
    "#to check the no.of.reviews present in for each product\n",
    "len(reviews)"
   ]
  },
  {
   "cell_type": "code",
   "execution_count": 50,
   "id": "5e4674dd-e819-4d4f-a155-79d0b80e775d",
   "metadata": {},
   "outputs": [
    {
     "data": {
      "text/plain": [
       "[<p class=\"_2sc7ZR _2V5EHH\">nishant yadav</p>]"
      ]
     },
     "execution_count": 50,
     "metadata": {},
     "output_type": "execute_result"
    }
   ],
   "source": [
    "#to find the name of the customer who has written the first review \n",
    "reviews[0].div.div.find_all(\"p\",{\"class\":\"_2sc7ZR _2V5EHH\"})"
   ]
  },
  {
   "cell_type": "code",
   "execution_count": 52,
   "id": "8aacb11d-1041-4756-b88b-9acd256f03b3",
   "metadata": {},
   "outputs": [
    {
     "data": {
      "text/plain": [
       "'nishant yadav'"
      ]
     },
     "execution_count": 52,
     "metadata": {},
     "output_type": "execute_result"
    }
   ],
   "source": [
    "#to get only the name of the customer of the first review\n",
    "reviews[0].div.div.find_all(\"p\",{\"class\":\"_2sc7ZR _2V5EHH\"})[0].text"
   ]
  },
  {
   "cell_type": "code",
   "execution_count": 55,
   "id": "9d93d794-4b40-444e-8797-6c2f1a7bc878",
   "metadata": {},
   "outputs": [
    {
     "name": "stdout",
     "output_type": "stream",
     "text": [
      "nishant yadav\n",
      "sai kumar\n",
      "Deepak Rai\n",
      "Flipkart Customer\n",
      "Flipkart Customer\n",
      "SANTHOSH PILLALAMARRI\n",
      "RAJESH HEGDE\n",
      "MANISH THAKURDESAI\n",
      "Shobhit Saxena\n",
      "Ashok kumar\n"
     ]
    },
    {
     "ename": "AttributeError",
     "evalue": "'NoneType' object has no attribute 'div'",
     "output_type": "error",
     "traceback": [
      "\u001b[0;31m---------------------------------------------------------------------------\u001b[0m",
      "\u001b[0;31mAttributeError\u001b[0m                            Traceback (most recent call last)",
      "Cell \u001b[0;32mIn[55], line 3\u001b[0m\n\u001b[1;32m      1\u001b[0m \u001b[38;5;66;03m#to get all the names of the customers who has written reviews for the particular product\u001b[39;00m\n\u001b[1;32m      2\u001b[0m \u001b[38;5;28;01mfor\u001b[39;00m i \u001b[38;5;129;01min\u001b[39;00m reviews:\n\u001b[0;32m----> 3\u001b[0m     \u001b[38;5;28mprint\u001b[39m(\u001b[43mi\u001b[49m\u001b[38;5;241;43m.\u001b[39;49m\u001b[43mdiv\u001b[49m\u001b[38;5;241;43m.\u001b[39;49m\u001b[43mdiv\u001b[49m\u001b[38;5;241m.\u001b[39mfind_all(\u001b[38;5;124m\"\u001b[39m\u001b[38;5;124mp\u001b[39m\u001b[38;5;124m\"\u001b[39m,{\u001b[38;5;124m\"\u001b[39m\u001b[38;5;124mclass\u001b[39m\u001b[38;5;124m\"\u001b[39m:\u001b[38;5;124m\"\u001b[39m\u001b[38;5;124m_2sc7ZR _2V5EHH\u001b[39m\u001b[38;5;124m\"\u001b[39m})[\u001b[38;5;241m0\u001b[39m]\u001b[38;5;241m.\u001b[39mtext)\n",
      "\u001b[0;31mAttributeError\u001b[0m: 'NoneType' object has no attribute 'div'"
     ]
    }
   ],
   "source": [
    "#to get all the names of the customers who has written reviews for the particular product\n",
    "for i in reviews:\n",
    "    print(i.div.div.find_all(\"p\",{\"class\":\"_2sc7ZR _2V5EHH\"})[0].text)"
   ]
  },
  {
   "cell_type": "code",
   "execution_count": 56,
   "id": "0976ded1-f670-4283-937f-42a6d173b5d1",
   "metadata": {},
   "outputs": [
    {
     "data": {
      "text/plain": [
       "<div class=\"_3LWZlK _1BLPMq\">5<img class=\"_1wB99o\" src=\"data:image/svg+xml;base64,PHN2ZyB4bWxucz0iaHR0cDovL3d3dy53My5vcmcvMjAwMC9zdmciIHdpZHRoPSIxMyIgaGVpZ2h0PSIxMiI+PHBhdGggZmlsbD0iI0ZGRiIgZD0iTTYuNSA5LjQzOWwtMy42NzQgMi4yMy45NC00LjI2LTMuMjEtMi44ODMgNC4yNTQtLjQwNEw2LjUuMTEybDEuNjkgNC4wMSA0LjI1NC40MDQtMy4yMSAyLjg4Mi45NCA0LjI2eiIvPjwvc3ZnPg==\"/></div>"
      ]
     },
     "execution_count": 56,
     "metadata": {},
     "output_type": "execute_result"
    }
   ],
   "source": [
    "#to scrap the rating of the particular customer\n",
    "reviews[0].div.div.div.div"
   ]
  },
  {
   "cell_type": "code",
   "execution_count": 57,
   "id": "02697131-2c40-4482-9df9-a0c63fa881b4",
   "metadata": {},
   "outputs": [
    {
     "data": {
      "text/plain": [
       "'5'"
      ]
     },
     "execution_count": 57,
     "metadata": {},
     "output_type": "execute_result"
    }
   ],
   "source": [
    "#to get only the rating\n",
    "reviews[0].div.div.div.div.text"
   ]
  },
  {
   "cell_type": "code",
   "execution_count": 58,
   "id": "fb59c32c-feec-4816-b34d-a2d889858fcd",
   "metadata": {},
   "outputs": [
    {
     "name": "stdout",
     "output_type": "stream",
     "text": [
      "5\n",
      "5\n",
      "4\n",
      "4\n",
      "4\n",
      "5\n",
      "5\n",
      "5\n",
      "5\n",
      "5\n"
     ]
    },
    {
     "ename": "AttributeError",
     "evalue": "'NoneType' object has no attribute 'div'",
     "output_type": "error",
     "traceback": [
      "\u001b[0;31m---------------------------------------------------------------------------\u001b[0m",
      "\u001b[0;31mAttributeError\u001b[0m                            Traceback (most recent call last)",
      "Cell \u001b[0;32mIn[58], line 3\u001b[0m\n\u001b[1;32m      1\u001b[0m \u001b[38;5;66;03m#to get all the ratings\u001b[39;00m\n\u001b[1;32m      2\u001b[0m \u001b[38;5;28;01mfor\u001b[39;00m i \u001b[38;5;129;01min\u001b[39;00m reviews:\n\u001b[0;32m----> 3\u001b[0m     \u001b[38;5;28mprint\u001b[39m(\u001b[43mi\u001b[49m\u001b[38;5;241;43m.\u001b[39;49m\u001b[43mdiv\u001b[49m\u001b[38;5;241;43m.\u001b[39;49m\u001b[43mdiv\u001b[49m\u001b[38;5;241m.\u001b[39mdiv\u001b[38;5;241m.\u001b[39mdiv\u001b[38;5;241m.\u001b[39mtext)\n",
      "\u001b[0;31mAttributeError\u001b[0m: 'NoneType' object has no attribute 'div'"
     ]
    }
   ],
   "source": [
    "#to get all the ratings\n",
    "for i in reviews:\n",
    "    print(i.div.div.div.div.text)"
   ]
  },
  {
   "cell_type": "code",
   "execution_count": 60,
   "id": "ce7ca69c-fcd1-48e1-b940-411ed3537fb5",
   "metadata": {},
   "outputs": [
    {
     "data": {
      "text/plain": [
       "<p class=\"_2-N8zT\">Terrific purchase</p>"
      ]
     },
     "execution_count": 60,
     "metadata": {},
     "output_type": "execute_result"
    }
   ],
   "source": [
    "#to get only the comment of the customer\n",
    "reviews[0].div.div.div.p"
   ]
  },
  {
   "cell_type": "code",
   "execution_count": 61,
   "id": "bdcf813f-5f6a-42f0-882d-2a514b6ff62f",
   "metadata": {},
   "outputs": [
    {
     "data": {
      "text/plain": [
       "'Terrific purchase'"
      ]
     },
     "execution_count": 61,
     "metadata": {},
     "output_type": "execute_result"
    }
   ],
   "source": [
    "#to get only the text\n",
    "reviews[0].div.div.div.p.text"
   ]
  },
  {
   "cell_type": "code",
   "execution_count": 62,
   "id": "9281f2ae-f696-410f-bdb3-21cb55b0ab00",
   "metadata": {},
   "outputs": [
    {
     "name": "stdout",
     "output_type": "stream",
     "text": [
      "Terrific purchase\n",
      "Awesome\n",
      "Very Good\n",
      "Delightful\n",
      "Nice product\n",
      "Terrific\n",
      "Highly recommended\n",
      "Highly recommended\n",
      "Excellent\n",
      "Terrific\n"
     ]
    },
    {
     "ename": "AttributeError",
     "evalue": "'NoneType' object has no attribute 'div'",
     "output_type": "error",
     "traceback": [
      "\u001b[0;31m---------------------------------------------------------------------------\u001b[0m",
      "\u001b[0;31mAttributeError\u001b[0m                            Traceback (most recent call last)",
      "Cell \u001b[0;32mIn[62], line 2\u001b[0m\n\u001b[1;32m      1\u001b[0m \u001b[38;5;28;01mfor\u001b[39;00m i \u001b[38;5;129;01min\u001b[39;00m reviews:\n\u001b[0;32m----> 2\u001b[0m     \u001b[38;5;28mprint\u001b[39m(\u001b[43mi\u001b[49m\u001b[38;5;241;43m.\u001b[39;49m\u001b[43mdiv\u001b[49m\u001b[38;5;241;43m.\u001b[39;49m\u001b[43mdiv\u001b[49m\u001b[38;5;241m.\u001b[39mdiv\u001b[38;5;241m.\u001b[39mp\u001b[38;5;241m.\u001b[39mtext)\n",
      "\u001b[0;31mAttributeError\u001b[0m: 'NoneType' object has no attribute 'div'"
     ]
    }
   ],
   "source": [
    "for i in reviews:\n",
    "    print(i.div.div.div.p.text)"
   ]
  },
  {
   "cell_type": "code",
   "execution_count": 69,
   "id": "da3b025f-a1d7-4d16-bb04-4b6d064294d1",
   "metadata": {},
   "outputs": [
    {
     "data": {
      "text/plain": [
       "\"This is a detailed review after 7 days. Please read this if you have problem or concern regarding sound/picture/brightness/sd channels/wifi connectivity/miracast. PICTURE: the picture quality is really amazing. Blacks are really deep. Contrast is pretty good too. No complaints there.  BRIGHTNESS: tv is pretty bright, by default dynamic light is on and it will make your screen dull, just turn it off. I've set it to 25. No screen galre problem.SOUND: tv speakers doesn't have much bass, ide...READ MORE\""
      ]
     },
     "execution_count": 69,
     "metadata": {},
     "output_type": "execute_result"
    }
   ],
   "source": [
    "#to get full comment\n",
    "reviews[0].div.div.find_all(\"div\",{\"class\":\"\"})[0].text"
   ]
  },
  {
   "cell_type": "code",
   "execution_count": 70,
   "id": "c60ff22f-bc3f-49cd-bd68-a221709894b6",
   "metadata": {},
   "outputs": [
    {
     "name": "stdout",
     "output_type": "stream",
     "text": [
      "This is a detailed review after 7 days. Please read this if you have problem or concern regarding sound/picture/brightness/sd channels/wifi connectivity/miracast. PICTURE: the picture quality is really amazing. Blacks are really deep. Contrast is pretty good too. No complaints there.  BRIGHTNESS: tv is pretty bright, by default dynamic light is on and it will make your screen dull, just turn it off. I've set it to 25. No screen galre problem.SOUND: tv speakers doesn't have much bass, ide...READ MORE\n",
      "Super and good quality full HD ,Internet also speed connecting ,it is like one smart phone .full happy and it delivered so speedREAD MORE\n",
      "I m posting review after checking all it's functionalities and settings in 40inch version. Below are the summary points :* Display : looks decent. 4k and full HD content looks satisfying. casted content dispaly quality is below par (also depends on the content you are casting).bezels are thin and are made of plastic which is loosely attached to the display panel. viewing angles are good covers around 150°* Connectivity: impressive , connects to WiFi, Bluetooth , Chromecast smoothly. observ...READ MORE\n",
      "This Mi TV is superb and value for money .waiting for 10 days just give feedback untill now there is no issuesPros1.picture quality2.sound 3.smart TV4.wifi connectivity and voice searchcons1.no Netflix and some important apps Installation feedback1.The installation was good the technician explain good but he force me to give feedback for him at that time and he is not even request me, he asked my mobile and wants me to open gmail and he typed the feedback for himself and finally a...READ MORE\n",
      "I love this MI tv good quality with affordable price. it supports 4k video also especially dolby audio is too good suggestions : MI should give the wall hanging stand for free of costREAD MORE\n",
      "MI is just awesome, obviously value for money.connectivity is super and no flaws noticed in TV till now.if anyone is looking for buy a smart TV in reasonable price then just prefer MI 4A. And finally thank you Flipkart 😊READ MORE\n",
      "Good product . Best value for money Android smart tvTimely delivery & proper installation done on schedule date . Thanks to FLIPKART  .READ MORE\n",
      "Really good product. value for money. Smart TV feture are in this price rang wich is great . Picture quality is preeti good , nice view angel. Go for pro model .....READ MORE\n",
      "PRO is better than previous version. It runs on android. Google play store is preinstalled. The remote runs on bluetooth. Great viewing experience as it is true LED TV. HD channels looks awesome, while SD channels does not looks good due to big screen size.Sound is clear and loud enough, good for music as well.Overall its a value for money product.Delivered and installed on stipulated timelines by flipcart.READ MORE\n",
      "it very nice mi tv good condition valuable for money but installation tv  to late jeeves.  pictures quality good .sounds effectively nice. can the the mi tv in flipkart it great delvery it on time  it amazingREAD MORE\n"
     ]
    },
    {
     "ename": "AttributeError",
     "evalue": "'NoneType' object has no attribute 'div'",
     "output_type": "error",
     "traceback": [
      "\u001b[0;31m---------------------------------------------------------------------------\u001b[0m",
      "\u001b[0;31mAttributeError\u001b[0m                            Traceback (most recent call last)",
      "Cell \u001b[0;32mIn[70], line 2\u001b[0m\n\u001b[1;32m      1\u001b[0m \u001b[38;5;28;01mfor\u001b[39;00m i \u001b[38;5;129;01min\u001b[39;00m reviews:\n\u001b[0;32m----> 2\u001b[0m     \u001b[38;5;28mprint\u001b[39m(\u001b[43mi\u001b[49m\u001b[38;5;241;43m.\u001b[39;49m\u001b[43mdiv\u001b[49m\u001b[38;5;241;43m.\u001b[39;49m\u001b[43mdiv\u001b[49m\u001b[38;5;241m.\u001b[39mfind_all(\u001b[38;5;124m\"\u001b[39m\u001b[38;5;124mdiv\u001b[39m\u001b[38;5;124m\"\u001b[39m,{\u001b[38;5;124m\"\u001b[39m\u001b[38;5;124mclass\u001b[39m\u001b[38;5;124m\"\u001b[39m:\u001b[38;5;124m\"\u001b[39m\u001b[38;5;124m\"\u001b[39m})[\u001b[38;5;241m0\u001b[39m]\u001b[38;5;241m.\u001b[39mtext)\n",
      "\u001b[0;31mAttributeError\u001b[0m: 'NoneType' object has no attribute 'div'"
     ]
    }
   ],
   "source": [
    "for i in reviews:\n",
    "    print(i.div.div.find_all(\"div\",{\"class\":\"\"})[0].text)"
   ]
  },
  {
   "cell_type": "code",
   "execution_count": null,
   "id": "6f4ddf7a-cec1-4dee-a8f8-3b0e6506c75f",
   "metadata": {},
   "outputs": [],
   "source": []
  }
 ],
 "metadata": {
  "kernelspec": {
   "display_name": "Python 3 (ipykernel)",
   "language": "python",
   "name": "python3"
  },
  "language_info": {
   "codemirror_mode": {
    "name": "ipython",
    "version": 3
   },
   "file_extension": ".py",
   "mimetype": "text/x-python",
   "name": "python",
   "nbconvert_exporter": "python",
   "pygments_lexer": "ipython3",
   "version": "3.10.8"
  }
 },
 "nbformat": 4,
 "nbformat_minor": 5
}
